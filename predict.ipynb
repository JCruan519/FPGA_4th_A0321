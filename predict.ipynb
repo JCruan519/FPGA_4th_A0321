{
 "cells": [
  {
   "cell_type": "code",
   "execution_count": null,
   "metadata": {},
   "outputs": [],
   "source": [
    "import numpy as np\n",
    "import pandas as pd\n",
    "import scipy.signal as signal\n",
    "import pywt #信号处理库\n",
    "import os\n",
    "from predict_funcs import *\n",
    "from keras.models import load_model"
   ]
  },
  {
   "cell_type": "code",
   "execution_count": null,
   "metadata": {},
   "outputs": [],
   "source": [
    "#模型的位置\n",
    "modelpath = 'model/model.h5'"
   ]
  },
  {
   "cell_type": "code",
   "execution_count": null,
   "metadata": {},
   "outputs": [],
   "source": [
    "#查找串口信息\n",
    "import serial\n",
    "import serial.tools.list_ports\n",
    "port_list = list(serial.tools.list_ports.comports())\n",
    "if len(port_list) == 0:\n",
    "    print('找不到串口')\n",
    "else:\n",
    "    for i in range(0,len(port_list)):\n",
    "        print(port_list[i])"
   ]
  },
  {
   "cell_type": "code",
   "execution_count": null,
   "metadata": {},
   "outputs": [],
   "source": [
    "#初始化overlay\n",
    "from pynq.overlays.base import BaseOverlay\n",
    "from pynq.lib import MicroblazeLibrary\n",
    "base = BaseOverlay('base.bit')\n",
    "print('finish')"
   ]
  },
  {
   "cell_type": "code",
   "execution_count": null,
   "metadata": {},
   "outputs": [],
   "source": [
    "#建立TGAM与PYNQ板的蓝牙通信\n",
    "ser = serial.Serial('/dev/ttyACM1',57600)"
   ]
  },
  {
   "cell_type": "code",
   "execution_count": null,
   "metadata": {},
   "outputs": [],
   "source": [
    "#进行脑波序列的采集、预测，并通过预测结果来控制机械臂\n",
    "while True:\n",
    "    rawdata = ser.read(20000).hex() #从TGAM模块获取到脑电序列\n",
    "    res = get_res(modelpath ,rawdata) #通过get_res函数直接获取到最终的预测结果\n",
    "    print(res)\n",
    "\n",
    "    #建立串口通信，并将最终的预测结果送出\n",
    "    lib = MicroblazeLibrary(base.RPI, ['uart'])\n",
    "    device = lib.uart_open(14,15)\n",
    "    \n",
    "    if res == 1:\n",
    "        list2 = [0x01]\n",
    "        print(\"抓取\")\n",
    "    elif res == 0:\n",
    "        list2 = [0x02]\n",
    "        print(\"放开\")\n",
    "    elif res == 2:\n",
    "        list2 = [0x03]\n",
    "        print(\"上抬\")\n",
    "    elif res == 3:\n",
    "        list2 = [0x04]\n",
    "        print(\"下放\")\n",
    "    elif res == 6:\n",
    "        list2 = [0x05]\n",
    "        print(\"左转\")\n",
    "    elif res == 5:\n",
    "        list2 = [0x06]\n",
    "        print(\"右转\")\n",
    "    lib.uart_write(device,list2,len(list2))"
   ]
  }
 ],
 "metadata": {
  "kernelspec": {
   "display_name": "Python 3",
   "language": "python",
   "name": "python3"
  },
  "language_info": {
   "codemirror_mode": {
    "name": "ipython",
    "version": 3
   },
   "file_extension": ".py",
   "mimetype": "text/x-python",
   "name": "python",
   "nbconvert_exporter": "python",
   "pygments_lexer": "ipython3",
   "version": "3.8.3"
  }
 },
 "nbformat": 4,
 "nbformat_minor": 4
}
